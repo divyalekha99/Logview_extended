{
 "cells": [
  {
   "cell_type": "markdown",
   "metadata": {},
   "source": [
    "Insert Logview source code path"
   ]
  },
  {
   "cell_type": "code",
   "execution_count": 1,
   "metadata": {},
   "outputs": [],
   "source": [
    "import sys\n",
    "import os\n",
    "\n",
    "sys.path.insert(0, '/Users/divyalekhas/Documents/Masters/Internship/logview')\n"
   ]
  },
  {
   "cell_type": "code",
   "execution_count": 2,
   "metadata": {},
   "outputs": [
    {
     "name": "stdout",
     "output_type": "stream",
     "text": [
      "Parent Directory: /Users/divyalekhas/Documents/Masters/Internship/logview\n",
      "Log Path: /Users/divyalekhas/Documents/Masters/Internship/logview/notebooks/dataset/Road_Traffic_Fine_Management_Process.csv\n"
     ]
    },
    {
     "data": {
      "text/html": [
       "\n",
       "        <iframe\n",
       "            width=\"100%\"\n",
       "            height=\"650\"\n",
       "            src=\"http://127.0.0.1:8051/\"\n",
       "            frameborder=\"0\"\n",
       "            allowfullscreen\n",
       "            \n",
       "        ></iframe>\n",
       "        "
      ],
      "text/plain": [
       "<IPython.lib.display.IFrame at 0x17fe4dde0>"
      ]
     },
     "metadata": {},
     "output_type": "display_data"
    },
    {
     "name": "stdout",
     "output_type": "stream",
     "text": [
      "out add condition\n",
      "VALUE: None\n",
      "VALUE: None\n",
      "out add condition\n",
      "VALUE: None\n",
      "VALUE: None\n",
      "VALUE: DurationWithin\n",
      "in update_output {'type': 'radios', 'index': 0} 0\n",
      "Q Index:  0\n",
      "C Index:  0\n",
      "Predicate:  {'Query1': {'query_name': '', 'conditions': [{'predicate': 'DurationWithin', 'predicate_class': <class 'logview.predicate.duration_within.DurationWithin'>, 'attribute_key': None, 'values': None, 'min_duration_seconds': None, 'max_duration_seconds': None}]}}\n",
      "['min_duration_seconds', 'max_duration_seconds']\n",
      "Update Duration Output: Min Duration: None, Max Duration: None, Unit: None\n",
      "One of the durations is None, returning empty.\n",
      "Update Duration Output: Min Duration: 0, Max Duration: 86400, Unit: Hours\n",
      "Converted Min Duration: 0, Max Duration: 311040000\n",
      "Update Duration Output: Min Duration: 0, Max Duration: 32400, Unit: Hours\n",
      "Converted Min Duration: 0, Max Duration: 116640000\n",
      "in on_button_click: {'query_name': '', 'predicate_class': [], 'predicate': [], 'attribute_key': [], 'values': [], 'min_duration': [], 'max_duration': []} None []\n",
      "Key: query_name, Value: \n",
      "Key: predicate_class, Value: []\n",
      "Key: predicate, Value: []\n",
      "Key: attribute_key, Value: []\n",
      "Key: values, Value: []\n",
      "Key: min_duration, Value: []\n",
      "Key: max_duration, Value: []\n",
      "Running predicates for query: Query1\n",
      "Condition 1:\n",
      "Predicate: <class 'logview.predicate.duration_within.DurationWithin'>\n",
      "Attribute Key: None\n",
      "Values: None\n",
      "Min Duration: 0\n",
      "Max Duration: 116640000\n",
      "Query Instance: <logview.predicate.query.Query object at 0x3194c2b00>\n",
      "Results for Query:        Case ID                    Activity  Resource  \\\n",
      "0           A1                 Create Fine     561.0   \n",
      "1           A1                   Send Fine       NaN   \n",
      "2         A100                 Create Fine     561.0   \n",
      "3         A100                   Send Fine       NaN   \n",
      "4         A100    Insert Fine Notification       NaN   \n",
      "...        ...                         ...       ...   \n",
      "561465   V9999                 Create Fine      25.0   \n",
      "561466   V9999                   Send Fine       NaN   \n",
      "561467   V9999    Insert Fine Notification       NaN   \n",
      "561468   V9999                 Add penalty       NaN   \n",
      "561469   V9999  Send for Credit Collection       NaN   \n",
      "\n",
      "              Complete Timestamp    Variant  Variant index  amount  article  \\\n",
      "0      2006-07-24 00:00:00+00:00  Variant 3              3    35.0    157.0   \n",
      "1      2006-12-05 00:00:00+00:00  Variant 3              3     NaN      NaN   \n",
      "2      2006-08-02 00:00:00+00:00  Variant 1              1    35.0    157.0   \n",
      "3      2006-12-12 00:00:00+00:00  Variant 1              1     NaN      NaN   \n",
      "4      2007-01-15 00:00:00+00:00  Variant 1              1     NaN      NaN   \n",
      "...                          ...        ...            ...     ...      ...   \n",
      "561465 2002-09-07 00:00:00+00:00  Variant 1              1   131.0    142.0   \n",
      "561466 2002-10-25 00:00:00+00:00  Variant 1              1     NaN      NaN   \n",
      "561467 2002-11-04 00:00:00+00:00  Variant 1              1     NaN      NaN   \n",
      "561468 2003-01-03 00:00:00+00:00  Variant 1              1   262.0      NaN   \n",
      "561469 2004-01-10 00:00:00+00:00  Variant 1              1     NaN      NaN   \n",
      "\n",
      "       dismissal  expense  ... notificationType paymentAmount  points  \\\n",
      "0            NIL      NaN  ...              NaN           NaN     0.0   \n",
      "1            NaN    11.00  ...              NaN           NaN     NaN   \n",
      "2            NIL      NaN  ...              NaN           NaN     0.0   \n",
      "3            NaN    11.00  ...              NaN           NaN     NaN   \n",
      "4            NaN      NaN  ...                P           NaN     NaN   \n",
      "...          ...      ...  ...              ...           ...     ...   \n",
      "561465       NIL      NaN  ...              NaN           NaN     0.0   \n",
      "561466       NaN    15.16  ...              NaN           NaN     NaN   \n",
      "561467       NaN      NaN  ...                P           NaN     NaN   \n",
      "561468       NaN      NaN  ...              NaN           NaN     NaN   \n",
      "561469       NaN      NaN  ...              NaN           NaN     NaN   \n",
      "\n",
      "       totalPaymentAmount  vehicleClass  case:concept:name  \\\n",
      "0                     0.0             A                 A1   \n",
      "1                     NaN           NaN                 A1   \n",
      "2                     0.0             A               A100   \n",
      "3                     NaN           NaN               A100   \n",
      "4                     NaN           NaN               A100   \n",
      "...                   ...           ...                ...   \n",
      "561465                0.0             A              V9999   \n",
      "561466                NaN           NaN              V9999   \n",
      "561467                NaN           NaN              V9999   \n",
      "561468                NaN           NaN              V9999   \n",
      "561469                NaN           NaN              V9999   \n",
      "\n",
      "                      concept:name            time:timestamp @@index  \\\n",
      "0                      Create Fine 2006-07-24 00:00:00+00:00       0   \n",
      "1                        Send Fine 2006-12-05 00:00:00+00:00       1   \n",
      "2                      Create Fine 2006-08-02 00:00:00+00:00       2   \n",
      "3                        Send Fine 2006-12-12 00:00:00+00:00       3   \n",
      "4         Insert Fine Notification 2007-01-15 00:00:00+00:00       4   \n",
      "...                            ...                       ...     ...   \n",
      "561465                 Create Fine 2002-09-07 00:00:00+00:00  561465   \n",
      "561466                   Send Fine 2002-10-25 00:00:00+00:00  561466   \n",
      "561467    Insert Fine Notification 2002-11-04 00:00:00+00:00  561467   \n",
      "561468                 Add penalty 2003-01-03 00:00:00+00:00  561468   \n",
      "561469  Send for Credit Collection 2004-01-10 00:00:00+00:00  561469   \n",
      "\n",
      "       @@case_index  \n",
      "0                 0  \n",
      "1                 0  \n",
      "2                 1  \n",
      "3                 1  \n",
      "4                 1  \n",
      "...             ...  \n",
      "561465       150369  \n",
      "561466       150369  \n",
      "561467       150369  \n",
      "561468       150369  \n",
      "561469       150369  \n",
      "\n",
      "[556986 rows x 23 columns]\n",
      "VALUE:in update_output {'type': 'radios', 'index': 0} 0\n",
      "Q Index:  0\n",
      "C Index:  0\n",
      "Predicate:  {'Query1': {'query_name': '', 'conditions': [{'predicate': 'DurationWithin', 'predicate_class': <class 'logview.predicate.duration_within.DurationWithin'>, 'attribute_key': None, 'values': None, 'min_duration_seconds': 0, 'max_duration_seconds': 116640000}]}}\n",
      "['min_duration_seconds', 'max_duration_seconds']\n",
      " DurationWithin\n",
      "Update Duration Output: Min Duration: None, Max Duration: None, Unit: None\n",
      "One of the durations is None, returning empty.\n",
      "Update Duration Output: Min Duration: 0, Max Duration: 86400, Unit: Hours\n",
      "Converted Min Duration: 0, Max Duration: 311040000\n",
      "---------------------------------------------------------------------------\n",
      "TypeError                                 Traceback (most recent call last)\n",
      "File ~/Documents/Masters/Internship/logview/vel/Vel.py:2255, in Vel.Query_Builder.<locals>.sync_duration_inputs(\n",
      "    min_duration=0,\n",
      "    max_duration=86400,\n",
      "    slider_range=[0, 86400],\n",
      "    time_unit=None\n",
      ")\n",
      "   2252         min_duration = max_duration\n",
      "   2253     return min_duration, max_duration, [min_duration, max_duration], 0, max_duration_seconds, {i: f'{i//step}{time_unit[0].lower()}' for i in range(0, max_duration_seconds + 1, step)}\n",
      "-> 2255 return 0, max_duration_seconds, [0, max_duration_seconds], 0, max_duration_seconds, {i: f'{i//step}{time_unit[0].lower()}' for i in range(0, max_duration_seconds + 1, step)}\n",
      "        time_unit = None\n",
      "        max_duration_seconds = 86400\n",
      "        step = 3600\n",
      "        [0, max_duration_seconds] = [0, 86400]\n",
      "        range(0, max_duration_seconds + 1, step) = range(0, 86401, 3600)\n",
      "        max_duration_seconds + 1 = 86401\n",
      "\n",
      "File ~/Documents/Masters/Internship/logview/vel/Vel.py:2255, in <dictcomp>(.0=<range_iterator object>)\n",
      "   2252         min_duration = max_duration\n",
      "   2253     return min_duration, max_duration, [min_duration, max_duration], 0, max_duration_seconds, {i: f'{i//step}{time_unit[0].lower()}' for i in range(0, max_duration_seconds + 1, step)}\n",
      "-> 2255 return 0, max_duration_seconds, [0, max_duration_seconds], 0, max_duration_seconds, {i: f'{i//step}{time_unit[0].lower()}' for i in range(0, max_duration_seconds + 1, step)}\n",
      "        time_unit = None\n",
      "        step = 3600\n",
      "        i = 0\n",
      "        i//step = 0\n",
      "\n",
      "TypeError: 'NoneType' object is not subscriptable\n",
      "\n",
      "Update Duration Output: Min Duration: 0, Max Duration: 86400, Unit: None\n",
      "---------------------------------------------------------------------------\n",
      "KeyError                                  Traceback (most recent call last)\n",
      "File ~/Documents/Masters/Internship/logview/vel/Vel.py:2337, in Vel.Query_Builder.<locals>.update_duration_output(\n",
      "    min_duration=0,\n",
      "    max_duration=86400,\n",
      "    unit=None,\n",
      "    cond_id={'index': 0, 'type': 'min_duration'},\n",
      "    query_index=0\n",
      ")\n",
      "   2334     return []\n",
      "   2336 # Convert selected duration to seconds based on the selected unit\n",
      "-> 2337 time_unit_multiplier = {\n",
      "        unit = None\n",
      "   2338     'Years': 31536000,\n",
      "   2339     'Months': 2592000,\n",
      "   2340     'Days': 86400,\n",
      "   2341     'Hours': 3600,\n",
      "   2342     'Minutes': 60\n",
      "   2343 }[unit]\n",
      "   2345 min_duration_sec = min_duration * time_unit_multiplier\n",
      "   2346 max_duration_sec = max_duration * time_unit_multiplier\n",
      "\n",
      "KeyError: None\n",
      "\n",
      "Update Duration Output: Min Duration: 0, Max Duration: 86400, Unit: Years\n",
      "Converted Min Duration: 0, Max Duration: 2724710400000\n",
      "Update Duration Output: Min Duration: 25200, Max Duration: 86400, Unit: Years\n",
      "Converted Min Duration: 794707200000, Max Duration: 2724710400000\n",
      "in on_button_click: {'query_name': '', 'predicate_class': [], 'predicate': [], 'attribute_key': [], 'values': [], 'min_duration': [], 'max_duration': []} None []\n",
      "Key: query_name, Value: \n",
      "Key: predicate_class, Value: []\n",
      "Key: predicate, Value: []\n",
      "Key: attribute_key, Value: []\n",
      "Key: values, Value: []\n",
      "Key: min_duration, Value: []\n",
      "Key: max_duration, Value: []\n",
      "Running predicates for query: Query1\n",
      "Condition 1:\n",
      "Predicate: <class 'logview.predicate.duration_within.DurationWithin'>\n",
      "Attribute Key: None\n",
      "Values: None\n",
      "Min Duration: 794707200000\n",
      "Max Duration: 2724710400000\n",
      "Query Instance: <logview.predicate.query.Query object at 0x3607b59f0>\n",
      "Results for Query: Empty DataFrame\n",
      "Columns: [Case ID, Activity, Resource, Complete Timestamp, Variant, Variant index, amount, article, dismissal, expense, lastSent, lifecycle:transition, matricola, notificationType, paymentAmount, points, totalPaymentAmount, vehicleClass, case:concept:name, concept:name, time:timestamp, @@index, @@case_index]\n",
      "Index: []\n",
      "\n",
      "[0 rows x 23 columns]\n",
      "Update Duration Output: Min Duration: 25200, Max Duration: 39600, Unit: Years\n",
      "Converted Min Duration: 794707200000, Max Duration: 1248825600000\n",
      "Update Duration Output: Min Duration: 21600, Max Duration: 25200, Unit: Years\n",
      "Converted Min Duration: 681177600000, Max Duration: 794707200000\n",
      "Update Duration Output: Min Duration: 18000, Max Duration: 25200, Unit: Years\n",
      "Converted Min Duration: 567648000000, Max Duration: 794707200000\n",
      "Update Duration Output: Min Duration: 21600, Max Duration: 25200, Unit: Years\n",
      "Converted Min Duration: 681177600000, Max Duration: 794707200000\n",
      "Update Duration Output: Min Duration: 25200, Max Duration: 25200, Unit: Years\n",
      "Converted Min Duration: 794707200000, Max Duration: 794707200000\n",
      "Update Duration Output: Min Duration: 25200, Max Duration: 28800, Unit: Years\n",
      "Converted Min Duration: 794707200000, Max Duration: 908236800000\n",
      "Update Duration Output: Min Duration: 25200, Max Duration: 32400, Unit: Years\n",
      "Converted Min Duration: 794707200000, Max Duration: 1021766400000\n",
      "Update Duration Output: Min Duration: 14400, Max Duration: 25200, Unit: Years\n",
      "Converted Min Duration: 454118400000, Max Duration: 794707200000\n",
      "Update Duration Output: Min Duration: 10800, Max Duration: 25200, Unit: Years\n",
      "Converted Min Duration: 340588800000, Max Duration: 794707200000\n",
      "Update Duration Output: Min Duration: 7200, Max Duration: 25200, Unit: Years\n",
      "Converted Min Duration: 227059200000, Max Duration: 794707200000\n",
      "Update Duration Output: Min Duration: 3600, Max Duration: 25200, Unit: Years\n",
      "Converted Min Duration: 113529600000, Max Duration: 794707200000\n",
      "Update Duration Output: Min Duration: 0, Max Duration: 25200, Unit: Years\n",
      "Converted Min Duration: 0, Max Duration: 794707200000\n",
      "in on_button_click: {'query_name': '', 'predicate_class': [], 'predicate': [], 'attribute_key': [], 'values': [], 'min_duration': [], 'max_duration': []} None []\n",
      "Key: query_name, Value: \n",
      "Key: predicate_class, Value: []\n",
      "Key: predicate, Value: []\n",
      "Key: attribute_key, Value: []\n",
      "Key: values, Value: []\n",
      "Key: min_duration, Value: []\n",
      "Key: max_duration, Value: []\n",
      "Running predicates for query: Query1\n",
      "Condition 1:\n",
      "Predicate: <class 'logview.predicate.duration_within.DurationWithin'>\n",
      "Attribute Key: None\n",
      "Values: None\n",
      "Min Duration: 0\n",
      "Max Duration: 794707200000\n",
      "Query Instance: <logview.predicate.query.Query object at 0x3607d2cb0>\n",
      "Results for Query:        Case ID                    Activity  Resource  \\\n",
      "0           A1                 Create Fine     561.0   \n",
      "1           A1                   Send Fine       NaN   \n",
      "2         A100                 Create Fine     561.0   \n",
      "3         A100                   Send Fine       NaN   \n",
      "4         A100    Insert Fine Notification       NaN   \n",
      "...        ...                         ...       ...   \n",
      "561465   V9999                 Create Fine      25.0   \n",
      "561466   V9999                   Send Fine       NaN   \n",
      "561467   V9999    Insert Fine Notification       NaN   \n",
      "561468   V9999                 Add penalty       NaN   \n",
      "561469   V9999  Send for Credit Collection       NaN   \n",
      "\n",
      "              Complete Timestamp    Variant  Variant index  amount  article  \\\n",
      "0      2006-07-24 00:00:00+00:00  Variant 3              3    35.0    157.0   \n",
      "1      2006-12-05 00:00:00+00:00  Variant 3              3     NaN      NaN   \n",
      "2      2006-08-02 00:00:00+00:00  Variant 1              1    35.0    157.0   \n",
      "3      2006-12-12 00:00:00+00:00  Variant 1              1     NaN      NaN   \n",
      "4      2007-01-15 00:00:00+00:00  Variant 1              1     NaN      NaN   \n",
      "...                          ...        ...            ...     ...      ...   \n",
      "561465 2002-09-07 00:00:00+00:00  Variant 1              1   131.0    142.0   \n",
      "561466 2002-10-25 00:00:00+00:00  Variant 1              1     NaN      NaN   \n",
      "561467 2002-11-04 00:00:00+00:00  Variant 1              1     NaN      NaN   \n",
      "561468 2003-01-03 00:00:00+00:00  Variant 1              1   262.0      NaN   \n",
      "561469 2004-01-10 00:00:00+00:00  Variant 1              1     NaN      NaN   \n",
      "\n",
      "       dismissal  expense  ... notificationType paymentAmount  points  \\\n",
      "0            NIL      NaN  ...              NaN           NaN     0.0   \n",
      "1            NaN    11.00  ...              NaN           NaN     NaN   \n",
      "2            NIL      NaN  ...              NaN           NaN     0.0   \n",
      "3            NaN    11.00  ...              NaN           NaN     NaN   \n",
      "4            NaN      NaN  ...                P           NaN     NaN   \n",
      "...          ...      ...  ...              ...           ...     ...   \n",
      "561465       NIL      NaN  ...              NaN           NaN     0.0   \n",
      "561466       NaN    15.16  ...              NaN           NaN     NaN   \n",
      "561467       NaN      NaN  ...                P           NaN     NaN   \n",
      "561468       NaN      NaN  ...              NaN           NaN     NaN   \n",
      "561469       NaN      NaN  ...              NaN           NaN     NaN   \n",
      "\n",
      "       totalPaymentAmount  vehicleClass  case:concept:name  \\\n",
      "0                     0.0             A                 A1   \n",
      "1                     NaN           NaN                 A1   \n",
      "2                     0.0             A               A100   \n",
      "3                     NaN           NaN               A100   \n",
      "4                     NaN           NaN               A100   \n",
      "...                   ...           ...                ...   \n",
      "561465                0.0             A              V9999   \n",
      "561466                NaN           NaN              V9999   \n",
      "561467                NaN           NaN              V9999   \n",
      "561468                NaN           NaN              V9999   \n",
      "561469                NaN           NaN              V9999   \n",
      "\n",
      "                      concept:name            time:timestamp @@index  \\\n",
      "0                      Create Fine 2006-07-24 00:00:00+00:00       0   \n",
      "1                        Send Fine 2006-12-05 00:00:00+00:00       1   \n",
      "2                      Create Fine 2006-08-02 00:00:00+00:00       2   \n",
      "3                        Send Fine 2006-12-12 00:00:00+00:00       3   \n",
      "4         Insert Fine Notification 2007-01-15 00:00:00+00:00       4   \n",
      "...                            ...                       ...     ...   \n",
      "561465                 Create Fine 2002-09-07 00:00:00+00:00  561465   \n",
      "561466                   Send Fine 2002-10-25 00:00:00+00:00  561466   \n",
      "561467    Insert Fine Notification 2002-11-04 00:00:00+00:00  561467   \n",
      "561468                 Add penalty 2003-01-03 00:00:00+00:00  561468   \n",
      "561469  Send for Credit Collection 2004-01-10 00:00:00+00:00  561469   \n",
      "\n",
      "       @@case_index  \n",
      "0                 0  \n",
      "1                 0  \n",
      "2                 1  \n",
      "3                 1  \n",
      "4                 1  \n",
      "...             ...  \n",
      "561465       150369  \n",
      "561466       150369  \n",
      "561467       150369  \n",
      "561468       150369  \n",
      "561469       150369  \n",
      "\n",
      "[561470 rows x 23 columns]\n",
      "VALUE:out add condition\n",
      " None\n",
      "VALUE: None\n",
      "VALUE:in update_output {'type': 'radios', 'index': 0} 0\n",
      "Q Index:  0\n",
      "C Index:  0\n",
      "Predicate:  {'Query1': {'query_name': '', 'conditions': [{'predicate': 'DurationWithin', 'predicate_class': <class 'logview.predicate.duration_within.DurationWithin'>, 'attribute_key': None, 'values': None, 'min_duration_seconds': 0, 'max_duration_seconds': 794707200000}]}}\n",
      "['min_duration_seconds', 'max_duration_seconds']\n",
      " DurationWithin\n",
      "Update Duration Output: Min Duration: None, Max Duration: None, Unit: None\n",
      "One of the durations is None, returning empty.\n",
      "Update Duration Output: Min Duration: 0, Max Duration: 86400, Unit: Hours\n",
      "Converted Min Duration: 0, Max Duration: 311040000\n",
      "Update Duration Output: Min Duration: 0, Max Duration: 86400, Unit: Years\n",
      "Converted Min Duration: 0, Max Duration: 2724710400000\n",
      "Update Duration Output: Min Duration: 0, Max Duration: 86400, Unit: Months\n",
      "Converted Min Duration: 0, Max Duration: 223948800000\n",
      "Update Duration Output: Min Duration: 0, Max Duration: 2592000, Unit: Days\n",
      "Converted Min Duration: 0, Max Duration: 223948800000\n",
      "Update Duration Output: Min Duration: 0, Max Duration: 86400, Unit: Hours\n",
      "Converted Min Duration: 0, Max Duration: 311040000\n",
      "Update Duration Output: Min Duration: 0, Max Duration: 3600, Unit: Minutes\n",
      "Converted Min Duration: 0, Max Duration: 216000\n"
     ]
    }
   ],
   "source": [
    "from dash import jupyter_dash\n",
    "from dash import Dash, html, dcc, callback, Output, Input\n",
    "from Vel import Vel\n",
    "import constants\n",
    "\n",
    "\n",
    "vel_instance = Vel(logName=\"Road_Traffic_Fine_Management_Process\")\n",
    "\n",
    "# app = vel_instance.getLog()\n",
    "\n",
    "\n",
    "app = vel_instance.Query_Builder()\n",
    "\n",
    "app.run_server(mode='inline', port=8051, debug=True)\n"
   ]
  },
  {
   "cell_type": "markdown",
   "metadata": {},
   "source": []
  },
  {
   "cell_type": "code",
   "execution_count": 5,
   "metadata": {},
   "outputs": [
    {
     "name": "stdout",
     "output_type": "stream",
     "text": [
      "Parent Directory: /Users/divyalekhas/Documents/Masters/Internship/logview\n",
      "Log Path: /Users/divyalekhas/Documents/Masters/Internship/logview/notebooks/dataset/Road_Traffic_Fine_Management_Process.csv\n"
     ]
    },
    {
     "name": "stdout",
     "output_type": "stream",
     "text": [
      "out add conditionVALUE: None\n",
      "\n",
      "VALUE: None\n"
     ]
    },
    {
     "ename": "AttributeError",
     "evalue": "'Vel' object has no attribute 'queryBuilder'",
     "output_type": "error",
     "traceback": [
      "\u001b[0;31m---------------------------------------------------------------------------\u001b[0m",
      "\u001b[0;31mAttributeError\u001b[0m                            Traceback (most recent call last)",
      "Cell \u001b[0;32mIn[5], line 12\u001b[0m\n\u001b[1;32m      7\u001b[0m vel_instance \u001b[38;5;241m=\u001b[39m Vel(logName\u001b[38;5;241m=\u001b[39m\u001b[38;5;124m\"\u001b[39m\u001b[38;5;124mRoad_Traffic_Fine_Management_Process\u001b[39m\u001b[38;5;124m\"\u001b[39m)\n\u001b[1;32m      9\u001b[0m \u001b[38;5;66;03m# app = vel_instance.getLog()\u001b[39;00m\n\u001b[0;32m---> 12\u001b[0m app \u001b[38;5;241m=\u001b[39m \u001b[43mvel_instance\u001b[49m\u001b[38;5;241;43m.\u001b[39;49m\u001b[43mqueryBuilder\u001b[49m()\n\u001b[1;32m     14\u001b[0m app\u001b[38;5;241m.\u001b[39mrun_server(mode\u001b[38;5;241m=\u001b[39m\u001b[38;5;124m'\u001b[39m\u001b[38;5;124minline\u001b[39m\u001b[38;5;124m'\u001b[39m, port\u001b[38;5;241m=\u001b[39m\u001b[38;5;241m8051\u001b[39m)\n",
      "\u001b[0;31mAttributeError\u001b[0m: 'Vel' object has no attribute 'queryBuilder'"
     ]
    }
   ],
   "source": [
    "from dash import jupyter_dash\n",
    "from dash import Dash, html, dcc, callback, Output, Input\n",
    "from Vel import Vel\n",
    "import constants\n",
    "\n",
    "\n",
    "vel_instance = Vel(logName=\"Road_Traffic_Fine_Management_Process\")\n",
    "\n",
    "# app = vel_instance.getLog()\n",
    "\n",
    "\n",
    "app = vel_instance.queryBuilder()\n",
    "\n",
    "app.run_server(mode='inline', port=8051)\n"
   ]
  },
  {
   "cell_type": "code",
   "execution_count": null,
   "metadata": {},
   "outputs": [
    {
     "name": "stdout",
     "output_type": "stream",
     "text": [
      "Parent Directory: /Users/divyalekhas/Documents/Masters/Internship/logview\n",
      "Log Path: /Users/divyalekhas/Documents/Masters/Internship/logview/notebooks/dataset/Road_Traffic_Fine_Management_Process.csv\n"
     ]
    },
    {
     "data": {
      "text/html": [
       "\n",
       "        <iframe\n",
       "            width=\"100%\"\n",
       "            height=\"650\"\n",
       "            src=\"http://127.0.0.1:8051/\"\n",
       "            frameborder=\"0\"\n",
       "            allowfullscreen\n",
       "            \n",
       "        ></iframe>\n",
       "        "
      ],
      "text/plain": [
       "<IPython.lib.display.IFrame at 0x30f81ece0>"
      ]
     },
     "metadata": {},
     "output_type": "display_data"
    },
    {
     "name": "stdout",
     "output_type": "stream",
     "text": [
      "calling\n"
     ]
    }
   ],
   "source": [
    "from dash import jupyter_dash\n",
    "from dash import Dash, html, dcc, callback, Output, Input\n",
    "from Vel import Vel\n",
    "import constants\n",
    "\n",
    "\n",
    "vel_instance = Vel(logName=\"Road_Traffic_Fine_Management_Process\")\n",
    "\n",
    "# app = vel_instance.getLog()\n",
    "\n",
    "\n",
    "app = vel_instance.queryBuilder1()\n",
    "\n",
    "app.run_server(mode='inline', port=8051)"
   ]
  },
  {
   "cell_type": "code",
   "execution_count": null,
   "metadata": {},
   "outputs": [
    {
     "name": "stdout",
     "output_type": "stream",
     "text": [
      "Parent Directory: /Users/divyalekhas/Documents/Masters/Internship/logview\n",
      "Log Path: /Users/divyalekhas/Documents/Masters/Internship/logview/notebooks/dataset/Road_Traffic_Fine_Management_Process.csv\n"
     ]
    },
    {
     "data": {
      "text/html": [
       "\n",
       "        <iframe\n",
       "            width=\"100%\"\n",
       "            height=\"650\"\n",
       "            src=\"http://127.0.0.1:8051/\"\n",
       "            frameborder=\"0\"\n",
       "            allowfullscreen\n",
       "            \n",
       "        ></iframe>\n",
       "        "
      ],
      "text/plain": [
       "<IPython.lib.display.IFrame at 0x30f0d6bc0>"
      ]
     },
     "metadata": {},
     "output_type": "display_data"
    },
    {
     "name": "stdout",
     "output_type": "stream",
     "text": [
      "calling\n"
     ]
    }
   ],
   "source": [
    "from dash import jupyter_dash\n",
    "from dash import Dash, html, dcc, callback, Output, Input\n",
    "from Vel import Vel\n",
    "import constants\n",
    "\n",
    "\n",
    "vel_instance = Vel(logName=\"Road_Traffic_Fine_Management_Process\")\n",
    "\n",
    "# app = vel_instance.getLog()\n",
    "\n",
    "\n",
    "app = vel_instance.displayPredicates()\n",
    "\n",
    "app.run_server(mode='inline', port=8051)\n"
   ]
  },
  {
   "cell_type": "code",
   "execution_count": null,
   "metadata": {},
   "outputs": [],
   "source": []
  },
  {
   "cell_type": "code",
   "execution_count": null,
   "metadata": {},
   "outputs": [
    {
     "data": {
      "text/html": [
       "\n",
       "        <iframe\n",
       "            width=\"100%\"\n",
       "            height=\"650\"\n",
       "            src=\"http://127.0.0.1:8050/\"\n",
       "            frameborder=\"0\"\n",
       "            allowfullscreen\n",
       "            \n",
       "        ></iframe>\n",
       "        "
      ],
      "text/plain": [
       "<IPython.lib.display.IFrame at 0x305bd3700>"
      ]
     },
     "metadata": {},
     "output_type": "display_data"
    }
   ],
   "source": [
    "from dash import jupyter_dash\n",
    "from dash import Dash, html, dcc, callback, Output, Input\n",
    "from Vel import Vel\n",
    "import constants\n",
    "\n",
    "\n",
    "vel_instance = Vel(logName=\"Road_Traffic_Fine_Management_Process\")\n",
    "\n",
    "app = vel_instance.getLog()\n",
    "\n",
    "app.run_server(mode='inline', port=constants.NAMESUIPORT, debug=True)"
   ]
  },
  {
   "cell_type": "code",
   "execution_count": null,
   "metadata": {},
   "outputs": [
    {
     "name": "stdout",
     "output_type": "stream",
     "text": [
      "['EqToConstant', 'NotEqToConstant', 'Query', 'Union', 'GreaterEqualToConstant', 'LessEqualToConstant', 'GreaterThanConstant', 'LessThanConstant', 'StartWith', 'EndWith', 'DurationWithin', 'SumAggregate', 'CountAggregate', 'MaxAggregate', 'MinAggregate']\n"
     ]
    },
    {
     "data": {
      "text/html": [
       "\n",
       "        <iframe\n",
       "            width=\"100%\"\n",
       "            height=\"650\"\n",
       "            src=\"http://127.0.0.1:8050/\"\n",
       "            frameborder=\"0\"\n",
       "            allowfullscreen\n",
       "            \n",
       "        ></iframe>\n",
       "        "
      ],
      "text/plain": [
       "<IPython.lib.display.IFrame at 0x3573b7010>"
      ]
     },
     "metadata": {},
     "output_type": "display_data"
    }
   ],
   "source": [
    "# app = vel_instance.getInputPredicate()\n",
    "\n",
    "# app.run_server(mode='inline', port=constants.NAMESUIPORT)"
   ]
  },
  {
   "cell_type": "code",
   "execution_count": null,
   "metadata": {},
   "outputs": [],
   "source": []
  }
 ],
 "metadata": {
  "kernelspec": {
   "display_name": "logview_env",
   "language": "python",
   "name": "python3"
  },
  "language_info": {
   "codemirror_mode": {
    "name": "ipython",
    "version": 3
   },
   "file_extension": ".py",
   "mimetype": "text/x-python",
   "name": "python",
   "nbconvert_exporter": "python",
   "pygments_lexer": "ipython3",
   "version": "3.10.14"
  }
 },
 "nbformat": 4,
 "nbformat_minor": 2
}
