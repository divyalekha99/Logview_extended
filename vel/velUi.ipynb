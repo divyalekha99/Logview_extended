{
 "cells": [
  {
   "cell_type": "markdown",
   "metadata": {},
   "source": [
    "# VeL-Ui Framework #\n",
    "\n",
    "## Introduction ##\n",
    "This tutorial will guide you through setting up and interacting with the VelUI, a user interface built on top of the LogView framework. VelUI allows you to visually build and evaluate queries on event logs, providing a dynamic and intuitive way to explore process mining data.\n"
   ]
  },
  {
   "cell_type": "markdown",
   "metadata": {},
   "source": [
    "## Loading the VelUI ##\n",
    "\n",
    "First, ensure you have the necessary dependencies installed :\n",
    "\n",
    "- dash==2.0.0\n",
    "- jupyter-dash==0.4.0\n",
    "- dash-bootstrap-components\n",
    "- dash feffery-antd-components\n",
    "\n"
   ]
  },
  {
   "cell_type": "markdown",
   "metadata": {},
   "source": [
    "## Setting Up the LogView Library\n",
    "\n",
    "To use the LogView library in this project, we need to ensure that Python can locate it. If the library is not installed as a package but is instead a local module in a specific directory, we can add that directory to the Python path manually.\n"
   ]
  },
  {
   "cell_type": "code",
   "execution_count": 1,
   "metadata": {},
   "outputs": [],
   "source": [
    "import sys\n",
    "import os\n",
    "\n",
    "# Add the path to your module to Logview Library\n",
    "path_to_your_module = os.path.dirname(os.getcwd())\n",
    "sys.path.insert(0, path_to_your_module)"
   ]
  },
  {
   "cell_type": "markdown",
   "metadata": {},
   "source": [
    "## Read an event log file ##\n",
    "For this tutorial, we use the Road Traffic Fine Management (RTFM) event log, which records data about the process of managing and handling road traffic fines by a local police force in Italy. The RTFM log contains 561,470 events grouped into 150,370 cases recorded between January 2000 and June 2013, including 11 different activities and 12 data attributes.\n",
    "\n",
    "More details about the event log can be found [here](https://link.springer.com/article/10.1007/s00607-015-0441-1#Sec8).\\\n",
    "The event log used in this tutorial is already provided in the dataset folder.\\\n",
    "The raw event log files can also be downloaded [here](https://data.4tu.nl/articles/dataset/Road_Traffic_Fine_Management_Process/12683249?file=24018146).\n",
    "\n"
   ]
  },
  {
   "cell_type": "code",
   "execution_count": 2,
   "metadata": {},
   "outputs": [],
   "source": [
    "from dash import jupyter_dash\n",
    "from dash import Dash, html, dcc, callback, Output, Input\n",
    "from Vel import Vel\n",
    "import constants\n",
    "\n",
    "\n",
    "vel_instance = Vel(logName=\"Road_Traffic_Fine_Management_Process\")"
   ]
  },
  {
   "cell_type": "code",
   "execution_count": 3,
   "metadata": {},
   "outputs": [
    {
     "name": "stdout",
     "output_type": "stream",
     "text": [
      "Running Query Builder\n",
      "App is ready to run at : http://127.0.0.1:8051\n"
     ]
    },
    {
     "data": {
      "text/html": [
       "\n",
       "        <iframe\n",
       "            width=\"100%\"\n",
       "            height=\"650\"\n",
       "            src=\"http://127.0.0.1:8051/\"\n",
       "            frameborder=\"0\"\n",
       "            allowfullscreen\n",
       "            \n",
       "        ></iframe>\n",
       "        "
      ],
      "text/plain": [
       "<IPython.lib.display.IFrame at 0x13a2c3320>"
      ]
     },
     "metadata": {},
     "output_type": "display_data"
    },
    {
     "name": "stdout",
     "output_type": "stream",
     "text": [
      "Selected log: None\n",
      "Labels: []\n",
      "Tag values: []\n",
      "Selected log: None\n",
      "Labels: []\n",
      "Tag values: []\n",
      "Labels:Selected log: None\n",
      " []\n",
      "Tag values: []\n"
     ]
    }
   ],
   "source": [
    "vel_instance.run_Query_Builder()"
   ]
  },
  {
   "cell_type": "code",
   "execution_count": 4,
   "metadata": {},
   "outputs": [
    {
     "name": "stdout",
     "output_type": "stream",
     "text": [
      "+----+--------------------+-------------+----------------+--------------+\n",
      "|    | source_log         | query       | result_set     | labels       |\n",
      "|----+--------------------+-------------+----------------+--------------|\n",
      "|  0 | initial_source_log | amount_zero | rs_amount_zero | [['unpaid']] |\n",
      "+----+--------------------+-------------+----------------+--------------+\n",
      "+----+-------------+-----------------+\n",
      "|    | query       | predicates      |\n",
      "|----+-------------+-----------------|\n",
      "|  0 | amount_zero | (amount <= 0.0) |\n",
      "+----+-------------+-----------------+\n"
     ]
    },
    {
     "data": {
      "text/plain": [
       "{'evaluations':            source_log        query      result_set      labels\n",
       " 0  initial_source_log  amount_zero  rs_amount_zero  [[unpaid]],\n",
       " 'queries':          query       predicates\n",
       " 0  amount_zero  (amount <= 0.0)}"
      ]
     },
     "execution_count": 4,
     "metadata": {},
     "output_type": "execute_result"
    }
   ],
   "source": [
    "vel_instance.log_view.get_summary()"
   ]
  },
  {
   "cell_type": "markdown",
   "metadata": {},
   "source": [
    "The Vel class is initialized with the path to a log file, automatically reads it, and prepares it for analysis. The initialization also sets up default column names for the case ID, timestamp, and activity columns."
   ]
  },
  {
   "cell_type": "markdown",
   "metadata": {},
   "source": [
    "Using `Changing Default Column Names()`:\n",
    "\n",
    "The changeDefaultNames method allows you to manually define the specific columns in your dataframe that correspond to the case ID, timestamp, and activity. This is essential for ensuring the LogView framework correctly interprets your event log data."
   ]
  },
  {
   "cell_type": "code",
   "execution_count": 3,
   "metadata": {},
   "outputs": [
    {
     "data": {
      "text/plain": [
       "'New Case ID'"
      ]
     },
     "execution_count": 3,
     "metadata": {},
     "output_type": "execute_result"
    }
   ],
   "source": [
    "vel_instance.changeDefaultNames(\"New Case ID\", \"New Timestamp\", \"New Activity\")\n",
    "vel_instance.CASE_ID_COL"
   ]
  },
  {
   "cell_type": "markdown",
   "metadata": {},
   "source": [
    "Using `setLog()`:\n",
    "\n",
    "The getLog method allows you to map your event log columns (Case ID, Timestamp, and Activity) and initialize the LogView directly through a web-based UI.\n",
    "\n",
    "- Column Selection: Choose the appropriate columns directly from the table.\n",
    "- Role Assignment: Assign selected columns to the Case ID, Timestamp, and Activity roles interactively."
   ]
  },
  {
   "cell_type": "code",
   "execution_count": 3,
   "metadata": {},
   "outputs": [
    {
     "data": {
      "text/html": [
       "\n",
       "        <iframe\n",
       "            width=\"100%\"\n",
       "            height=\"650\"\n",
       "            src=\"http://127.0.0.1:8050/\"\n",
       "            frameborder=\"0\"\n",
       "            allowfullscreen\n",
       "            \n",
       "        ></iframe>\n",
       "        "
      ],
      "text/plain": [
       "<IPython.lib.display.IFrame at 0x16e1db430>"
      ]
     },
     "metadata": {},
     "output_type": "display_data"
    }
   ],
   "source": [
    "from dash import jupyter_dash\n",
    "from dash import Dash, html, dcc, callback, Output, Input\n",
    "from Vel import Vel\n",
    "import constants\n",
    "\n",
    "\n",
    "app = vel_instance.setLog()\n",
    "\n",
    "app.run_server(mode='inline', port=constants.SETLOGPORT)"
   ]
  },
  {
   "cell_type": "markdown",
   "metadata": {},
   "source": [
    "### Instantiating a LogView object ###\n",
    "\n",
    "The LogViewBuilder class allows instantiating a LogView object, which serves as the central interface for creating LogView instances. It provides a single point of access for interacting with the different framework components.\n",
    "\n",
    "`initLogView()`:\n",
    "The initLogView method simplifies the process of initializing a LogView object from raw event log data"
   ]
  },
  {
   "cell_type": "code",
   "execution_count": 7,
   "metadata": {},
   "outputs": [
    {
     "data": {
      "text/plain": [
       "<logview.log_view.LogView at 0x318ed93c0>"
      ]
     },
     "execution_count": 7,
     "metadata": {},
     "output_type": "execute_result"
    }
   ],
   "source": [
    "vel_instance.initLogView()"
   ]
  },
  {
   "cell_type": "markdown",
   "metadata": {},
   "source": [
    "## Evaluate Queries ##\n",
    "\n",
    "In **LogView**, a _query_ is a combination (conjunction) of one or more predicates, which are similar to case filters. \n",
    "Predicates allow you to retrieve cases from the log that meet the conditions specified by the predicate. For example, a predicate such as 'amount ≤ 100' sets a condition on the values of the 'amount' attribute within the case.\n",
    "\n",
    "### Query Predicates ###\n",
    "The following predicates are currently supported in LogView.\n",
    "\n",
    "**Filter on attribute values:**\n",
    "- `EqToConstant`: Keeps cases that contain at least an event with the given attribute equal to a constant value.\n",
    "- `NotEqToConstant`: Keeps cases that do not contain any event with the given attribute equal to a constant value.\n",
    "- `GreaterEqualToConstant`: Keeps cases that contain at least an event with the given attribute greater than or equal to a constant value.\n",
    "- `GreaterThanConstant`: Keeps cases that contain at least an event with the given attribute greater than a constant value.\n",
    "- `LessEqualToConstant`: Keeps cases that contain at least an event with the given attribute lower than or equal to a constant value.\n",
    "- `LessThanConstant`: Keeps cases that contain at least an event with the given attribute lower than a constant value.\n",
    "- `StartWith`: Keeps cases starting with the specified activities.\n",
    "- `EndWith`: Keeps cases ending with a given activity.\n",
    "- `DurationWithin`: Keeps cases with durations within a specified range in seconds.\n",
    "- `SumAggregate`: Sums the values of the specified attribute, grouping by the specified columns.\n",
    "- `MaxAggregate`: Finds the maximum value of the specified attribute, grouping by the specified columns.\n",
    "- `MinAggregate`: Finds the minimum value of the specified attribute, grouping by the specified columns.\n"
   ]
  },
  {
   "cell_type": "markdown",
   "metadata": {},
   "source": [
    "(!WIP)`Query_Builder` creates a web application using Dash that serves as a visual query builder. Users can add queries, select predicates, configure conditions, and execute queries—all within an intuitive UI. The method handles everything from setting up the layout to managing callbacks that update the UI based on user interactions.\n",
    "\n",
    "One of the core features of Query_Builder is its ability to dynamically manage queries\n",
    "\n",
    "\n",
    "- Multiple Query Tabs: Users can create, manage, and switch between multiple queries using dynamically generated tabs.\n",
    "\n",
    "- Dynamic Input Fields: Input fields adjust dynamically based on the selected predicate, allowing users to provide the necessary parameters\n",
    "\n",
    "- Updating Conditions: The method provides detailed UI elements for configuring conditions within each query, such as selecting attributes, setting values, and defining predicates.\n",
    "\n",
    "- Query Preview: The UI displays a real-time preview of the query string as users configure conditions and select predicates\n",
    "\n",
    "- Query Execution and Results Display: Execute queries directly from the UI, and the results are displayed in an interactive DataTable\n",
    "\n",
    "- Visual Feedback\n",
    "\n"
   ]
  },
  {
   "cell_type": "markdown",
   "metadata": {},
   "source": []
  }
 ],
 "metadata": {
  "kernelspec": {
   "display_name": "logview_env",
   "language": "python",
   "name": "python3"
  },
  "language_info": {
   "codemirror_mode": {
    "name": "ipython",
    "version": 3
   },
   "file_extension": ".py",
   "mimetype": "text/x-python",
   "name": "python",
   "nbconvert_exporter": "python",
   "pygments_lexer": "ipython3",
   "version": "3.12.4"
  }
 },
 "nbformat": 4,
 "nbformat_minor": 2
}
