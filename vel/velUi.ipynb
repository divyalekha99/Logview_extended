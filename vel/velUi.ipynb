{
 "cells": [
  {
   "cell_type": "code",
   "execution_count": 1,
   "metadata": {},
   "outputs": [
    {
     "name": "stderr",
     "output_type": "stream",
     "text": [
      "/var/folders/xc/mz52nm8s0m180ygssmm5psdm0000gn/T/ipykernel_25672/4257955735.py:3: UserWarning: \n",
      "The dash_core_components package is deprecated. Please replace\n",
      "`import dash_core_components as dcc` with `from dash import dcc`\n",
      "  import dash_core_components as dcc\n",
      "/var/folders/xc/mz52nm8s0m180ygssmm5psdm0000gn/T/ipykernel_25672/4257955735.py:4: UserWarning: \n",
      "The dash_html_components package is deprecated. Please replace\n",
      "`import dash_html_components as html` with `from dash import html`\n",
      "  import dash_html_components as html\n"
     ]
    },
    {
     "data": {
      "text/html": [
       "\n",
       "        <iframe\n",
       "            width=\"100%\"\n",
       "            height=\"650\"\n",
       "            src=\"http://127.0.0.1:8050/\"\n",
       "            frameborder=\"0\"\n",
       "            allowfullscreen\n",
       "            \n",
       "        ></iframe>\n",
       "        "
      ],
      "text/plain": [
       "<IPython.lib.display.IFrame at 0x16c24b5e0>"
      ]
     },
     "metadata": {},
     "output_type": "display_data"
    }
   ],
   "source": [
    "from dash import jupyter_dash\n",
    "from dash import Dash, html, dcc, callback, Output, Input\n",
    "import dash_core_components as dcc\n",
    "import dash_html_components as html\n",
    "from dash.dependencies import Input, Output\n",
    "from Vel import Vel\n",
    "import constants\n",
    "\n",
    "# Step 2: Import Libraries\n",
    "vel_instance = Vel(logName=\"Road_Traffic_Fine_Management_Process\")\n",
    "# Step 3: Call the get_name_app function in the Vel class\n",
    "app = vel_instance.getNameApp()\n",
    "\n",
    "# Step 5: Run the App\n",
    "# Use mode='inline' to display within the Jupyter notebook\n",
    "app.run_server(mode='inline', port=constants.NAMESUIPORT)"
   ]
  }
 ],
 "metadata": {
  "kernelspec": {
   "display_name": "logview_env",
   "language": "python",
   "name": "python3"
  },
  "language_info": {
   "codemirror_mode": {
    "name": "ipython",
    "version": 3
   },
   "file_extension": ".py",
   "mimetype": "text/x-python",
   "name": "python",
   "nbconvert_exporter": "python",
   "pygments_lexer": "ipython3",
   "version": "3.10.14"
  }
 },
 "nbformat": 4,
 "nbformat_minor": 2
}
