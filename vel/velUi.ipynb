{
 "cells": [
  {
   "cell_type": "code",
   "execution_count": 1,
   "metadata": {},
   "outputs": [],
   "source": [
    "import sys\n",
    "import os\n",
    "\n",
    "sys.path.insert(0, '/Users/divyalekhas/Documents/Masters/Internship/logview')"
   ]
  },
  {
   "cell_type": "code",
   "execution_count": 5,
   "metadata": {},
   "outputs": [
    {
     "data": {
      "text/html": [
       "\n",
       "        <iframe\n",
       "            width=\"100%\"\n",
       "            height=\"650\"\n",
       "            src=\"http://127.0.0.1:8050/\"\n",
       "            frameborder=\"0\"\n",
       "            allowfullscreen\n",
       "            \n",
       "        ></iframe>\n",
       "        "
      ],
      "text/plain": [
       "<IPython.lib.display.IFrame at 0x35ef81f30>"
      ]
     },
     "metadata": {},
     "output_type": "display_data"
    }
   ],
   "source": [
    "from dash import jupyter_dash\n",
    "from dash import Dash, html, dcc, callback, Output, Input\n",
    "from Vel import Vel\n",
    "import constants\n",
    "\n",
    "\n",
    "vel_instance = Vel(logName=\"Road_Traffic_Fine_Management_Process\")\n",
    "\n",
    "app = vel_instance.getLog()\n",
    "\n",
    "app.run_server(mode='inline', port=constants.NAMESUIPORT)"
   ]
  },
  {
   "cell_type": "code",
   "execution_count": null,
   "metadata": {},
   "outputs": [
    {
     "name": "stdout",
     "output_type": "stream",
     "text": [
      "['EqToConstant', 'NotEqToConstant', 'Query', 'Union', 'GreaterEqualToConstant', 'LessEqualToConstant', 'GreaterThanConstant', 'LessThanConstant', 'StartWith', 'EndWith', 'DurationWithin', 'SumAggregate', 'CountAggregate', 'MaxAggregate', 'MinAggregate']\n"
     ]
    },
    {
     "data": {
      "text/html": [
       "\n",
       "        <iframe\n",
       "            width=\"100%\"\n",
       "            height=\"650\"\n",
       "            src=\"http://127.0.0.1:8050/\"\n",
       "            frameborder=\"0\"\n",
       "            allowfullscreen\n",
       "            \n",
       "        ></iframe>\n",
       "        "
      ],
      "text/plain": [
       "<IPython.lib.display.IFrame at 0x16a9c3c40>"
      ]
     },
     "metadata": {},
     "output_type": "display_data"
    },
    {
     "name": "stdout",
     "output_type": "stream",
     "text": [
      "calling\n",
      "in\n"
     ]
    },
    {
     "name": "stderr",
     "output_type": "stream",
     "text": [
      "[2024-07-19 18:51:31,712] ERROR in app: Exception on /_dash-update-component [POST]\n",
      "Traceback (most recent call last):\n",
      "  File \"/Users/divyalekhas/miniconda3/envs/logview_env/lib/python3.10/site-packages/pandas/core/indexes/base.py\", line 3805, in get_loc\n",
      "    return self._engine.get_loc(casted_key)\n",
      "  File \"index.pyx\", line 167, in pandas._libs.index.IndexEngine.get_loc\n",
      "  File \"index.pyx\", line 196, in pandas._libs.index.IndexEngine.get_loc\n",
      "  File \"pandas/_libs/hashtable_class_helper.pxi\", line 7081, in pandas._libs.hashtable.PyObjectHashTable.get_item\n",
      "  File \"pandas/_libs/hashtable_class_helper.pxi\", line 7089, in pandas._libs.hashtable.PyObjectHashTable.get_item\n",
      "KeyError: None\n",
      "\n",
      "The above exception was the direct cause of the following exception:\n",
      "\n",
      "Traceback (most recent call last):\n",
      "  File \"/Users/divyalekhas/miniconda3/envs/logview_env/lib/python3.10/site-packages/flask/app.py\", line 1473, in wsgi_app\n",
      "    response = self.full_dispatch_request()\n",
      "  File \"/Users/divyalekhas/miniconda3/envs/logview_env/lib/python3.10/site-packages/flask/app.py\", line 882, in full_dispatch_request\n",
      "    rv = self.handle_user_exception(e)\n",
      "  File \"/Users/divyalekhas/miniconda3/envs/logview_env/lib/python3.10/site-packages/flask/app.py\", line 880, in full_dispatch_request\n",
      "    rv = self.dispatch_request()\n",
      "  File \"/Users/divyalekhas/miniconda3/envs/logview_env/lib/python3.10/site-packages/flask/app.py\", line 865, in dispatch_request\n",
      "    return self.ensure_sync(self.view_functions[rule.endpoint])(**view_args)  # type: ignore[no-any-return]\n",
      "  File \"/Users/divyalekhas/miniconda3/envs/logview_env/lib/python3.10/site-packages/dash/dash.py\", line 1373, in dispatch\n",
      "    ctx.run(\n",
      "  File \"/Users/divyalekhas/miniconda3/envs/logview_env/lib/python3.10/site-packages/dash/_callback.py\", line 465, in add_context\n",
      "    output_value = _invoke_callback(func, *func_args, **func_kwargs)\n",
      "  File \"/Users/divyalekhas/miniconda3/envs/logview_env/lib/python3.10/site-packages/dash/_callback.py\", line 40, in _invoke_callback\n",
      "    return func(*args, **kwargs)  # %% callback invoked %%\n",
      "  File \"/Users/divyalekhas/Documents/Masters/Internship/logview/vel/Vel.py\", line 56, in set_values_dropdown\n",
      "    unique_values = self.df[selected_key].unique()\n",
      "  File \"/Users/divyalekhas/miniconda3/envs/logview_env/lib/python3.10/site-packages/pandas/core/frame.py\", line 4090, in __getitem__\n",
      "    indexer = self.columns.get_loc(key)\n",
      "  File \"/Users/divyalekhas/miniconda3/envs/logview_env/lib/python3.10/site-packages/pandas/core/indexes/base.py\", line 3812, in get_loc\n",
      "    raise KeyError(key) from err\n",
      "KeyError: None\n"
     ]
    },
    {
     "name": "stdout",
     "output_type": "stream",
     "text": [
      "calling\n",
      "in\n",
      "inin\n",
      "in options\n",
      "in options\n",
      "calling\n",
      "in\n"
     ]
    },
    {
     "name": "stderr",
     "output_type": "stream",
     "text": [
      "[2024-07-19 18:52:37,354] ERROR in app: Exception on /_dash-update-component [POST]\n",
      "Traceback (most recent call last):\n",
      "  File \"/Users/divyalekhas/miniconda3/envs/logview_env/lib/python3.10/site-packages/pandas/core/indexes/base.py\", line 3805, in get_loc\n",
      "    return self._engine.get_loc(casted_key)\n",
      "  File \"index.pyx\", line 167, in pandas._libs.index.IndexEngine.get_loc\n",
      "  File \"index.pyx\", line 196, in pandas._libs.index.IndexEngine.get_loc\n",
      "  File \"pandas/_libs/hashtable_class_helper.pxi\", line 7081, in pandas._libs.hashtable.PyObjectHashTable.get_item\n",
      "  File \"pandas/_libs/hashtable_class_helper.pxi\", line 7089, in pandas._libs.hashtable.PyObjectHashTable.get_item\n",
      "KeyError: None\n",
      "\n",
      "The above exception was the direct cause of the following exception:\n",
      "\n",
      "Traceback (most recent call last):\n",
      "  File \"/Users/divyalekhas/miniconda3/envs/logview_env/lib/python3.10/site-packages/flask/app.py\", line 1473, in wsgi_app\n",
      "    response = self.full_dispatch_request()\n",
      "  File \"/Users/divyalekhas/miniconda3/envs/logview_env/lib/python3.10/site-packages/flask/app.py\", line 882, in full_dispatch_request\n",
      "    rv = self.handle_user_exception(e)\n",
      "  File \"/Users/divyalekhas/miniconda3/envs/logview_env/lib/python3.10/site-packages/flask/app.py\", line 880, in full_dispatch_request\n",
      "    rv = self.dispatch_request()\n",
      "  File \"/Users/divyalekhas/miniconda3/envs/logview_env/lib/python3.10/site-packages/flask/app.py\", line 865, in dispatch_request\n",
      "    return self.ensure_sync(self.view_functions[rule.endpoint])(**view_args)  # type: ignore[no-any-return]\n",
      "  File \"/Users/divyalekhas/miniconda3/envs/logview_env/lib/python3.10/site-packages/dash/dash.py\", line 1373, in dispatch\n",
      "    ctx.run(\n",
      "  File \"/Users/divyalekhas/miniconda3/envs/logview_env/lib/python3.10/site-packages/dash/_callback.py\", line 465, in add_context\n",
      "    output_value = _invoke_callback(func, *func_args, **func_kwargs)\n",
      "  File \"/Users/divyalekhas/miniconda3/envs/logview_env/lib/python3.10/site-packages/dash/_callback.py\", line 40, in _invoke_callback\n",
      "    return func(*args, **kwargs)  # %% callback invoked %%\n",
      "  File \"/Users/divyalekhas/Documents/Masters/Internship/logview/vel/Vel.py\", line 56, in set_values_dropdown\n",
      "    unique_values = self.df[selected_key].unique()\n",
      "  File \"/Users/divyalekhas/miniconda3/envs/logview_env/lib/python3.10/site-packages/pandas/core/frame.py\", line 4090, in __getitem__\n",
      "    indexer = self.columns.get_loc(key)\n",
      "  File \"/Users/divyalekhas/miniconda3/envs/logview_env/lib/python3.10/site-packages/pandas/core/indexes/base.py\", line 3812, in get_loc\n",
      "    raise KeyError(key) from err\n",
      "KeyError: None\n"
     ]
    },
    {
     "name": "stdout",
     "output_type": "stream",
     "text": [
      "calling\n",
      "in\n",
      "inin\n",
      "in options\n",
      "in options\n",
      "in options\n",
      "in options\n",
      "calling\n",
      "in\n",
      "calling\n",
      "in\n"
     ]
    },
    {
     "name": "stderr",
     "output_type": "stream",
     "text": [
      "[2024-07-19 21:36:13,045] ERROR in app: Exception on /_dash-update-component [POST]\n",
      "Traceback (most recent call last):\n",
      "  File \"/Users/divyalekhas/miniconda3/envs/logview_env/lib/python3.10/site-packages/dash/dash.py\", line 1303, in dispatch\n",
      "    cb = self.callback_map[output]\n",
      "KeyError: 'stored-selected-columns.data'\n",
      "\n",
      "The above exception was the direct cause of the following exception:\n",
      "\n",
      "Traceback (most recent call last):\n",
      "  File \"/Users/divyalekhas/miniconda3/envs/logview_env/lib/python3.10/site-packages/flask/app.py\", line 1473, in wsgi_app\n",
      "    response = self.full_dispatch_request()\n",
      "  File \"/Users/divyalekhas/miniconda3/envs/logview_env/lib/python3.10/site-packages/flask/app.py\", line 882, in full_dispatch_request\n",
      "    rv = self.handle_user_exception(e)\n",
      "  File \"/Users/divyalekhas/miniconda3/envs/logview_env/lib/python3.10/site-packages/flask/app.py\", line 880, in full_dispatch_request\n",
      "    rv = self.dispatch_request()\n",
      "  File \"/Users/divyalekhas/miniconda3/envs/logview_env/lib/python3.10/site-packages/flask/app.py\", line 865, in dispatch_request\n",
      "    return self.ensure_sync(self.view_functions[rule.endpoint])(**view_args)  # type: ignore[no-any-return]\n",
      "  File \"/Users/divyalekhas/miniconda3/envs/logview_env/lib/python3.10/site-packages/dash/dash.py\", line 1368, in dispatch\n",
      "    raise KeyError(msg) from missing_callback_function\n",
      "KeyError: \"Callback function not found for output 'stored-selected-columns.data', perhaps you forgot to prepend the '@'?\"\n",
      "[2024-07-19 21:36:13,047] ERROR in app: Exception on /_dash-update-component [POST]\n",
      "Traceback (most recent call last):\n",
      "  File \"/Users/divyalekhas/miniconda3/envs/logview_env/lib/python3.10/site-packages/dash/dash.py\", line 1303, in dispatch\n",
      "    cb = self.callback_map[output]\n",
      "KeyError: 'datatable-interactivity.style_data_conditional'\n",
      "\n",
      "The above exception was the direct cause of the following exception:\n",
      "\n",
      "Traceback (most recent call last):\n",
      "  File \"/Users/divyalekhas/miniconda3/envs/logview_env/lib/python3.10/site-packages/flask/app.py\", line 1473, in wsgi_app\n",
      "    response = self.full_dispatch_request()\n",
      "  File \"/Users/divyalekhas/miniconda3/envs/logview_env/lib/python3.10/site-packages/flask/app.py\", line 882, in full_dispatch_request\n",
      "    rv = self.handle_user_exception(e)\n",
      "  File \"/Users/divyalekhas/miniconda3/envs/logview_env/lib/python3.10/site-packages/flask/app.py\", line 880, in full_dispatch_request\n",
      "    rv = self.dispatch_request()\n",
      "  File \"/Users/divyalekhas/miniconda3/envs/logview_env/lib/python3.10/site-packages/flask/app.py\", line 865, in dispatch_request\n",
      "    return self.ensure_sync(self.view_functions[rule.endpoint])(**view_args)  # type: ignore[no-any-return]\n",
      "  File \"/Users/divyalekhas/miniconda3/envs/logview_env/lib/python3.10/site-packages/dash/dash.py\", line 1368, in dispatch\n",
      "    raise KeyError(msg) from missing_callback_function\n",
      "KeyError: \"Callback function not found for output 'datatable-interactivity.style_data_conditional', perhaps you forgot to prepend the '@'?\"\n",
      "[2024-07-19 21:36:15,759] ERROR in app: Exception on /_dash-update-component [POST]\n",
      "Traceback (most recent call last):\n",
      "  File \"/Users/divyalekhas/miniconda3/envs/logview_env/lib/python3.10/site-packages/dash/dash.py\", line 1303, in dispatch\n",
      "    cb = self.callback_map[output]\n",
      "KeyError: 'stored-selected-columns.data'\n",
      "\n",
      "The above exception was the direct cause of the following exception:\n",
      "\n",
      "Traceback (most recent call last):\n",
      "  File \"/Users/divyalekhas/miniconda3/envs/logview_env/lib/python3.10/site-packages/flask/app.py\", line 1473, in wsgi_app\n",
      "    response = self.full_dispatch_request()\n",
      "  File \"/Users/divyalekhas/miniconda3/envs/logview_env/lib/python3.10/site-packages/flask/app.py\", line 882, in full_dispatch_request\n",
      "    rv = self.handle_user_exception(e)\n",
      "  File \"/Users/divyalekhas/miniconda3/envs/logview_env/lib/python3.10/site-packages/flask/app.py\", line 880, in full_dispatch_request\n",
      "    rv = self.dispatch_request()\n",
      "  File \"/Users/divyalekhas/miniconda3/envs/logview_env/lib/python3.10/site-packages/flask/app.py\", line 865, in dispatch_request\n",
      "    return self.ensure_sync(self.view_functions[rule.endpoint])(**view_args)  # type: ignore[no-any-return]\n",
      "  File \"/Users/divyalekhas/miniconda3/envs/logview_env/lib/python3.10/site-packages/dash/dash.py\", line 1368, in dispatch\n",
      "    raise KeyError(msg) from missing_callback_function\n",
      "KeyError: \"Callback function not found for output 'stored-selected-columns.data', perhaps you forgot to prepend the '@'?\"\n",
      "[2024-07-19 21:36:15,760] ERROR in app: Exception on /_dash-update-component [POST]\n",
      "Traceback (most recent call last):\n",
      "  File \"/Users/divyalekhas/miniconda3/envs/logview_env/lib/python3.10/site-packages/dash/dash.py\", line 1303, in dispatch\n",
      "    cb = self.callback_map[output]\n",
      "KeyError: 'datatable-interactivity.style_data_conditional'\n",
      "\n",
      "The above exception was the direct cause of the following exception:\n",
      "\n",
      "Traceback (most recent call last):\n",
      "  File \"/Users/divyalekhas/miniconda3/envs/logview_env/lib/python3.10/site-packages/flask/app.py\", line 1473, in wsgi_app\n",
      "    response = self.full_dispatch_request()\n",
      "  File \"/Users/divyalekhas/miniconda3/envs/logview_env/lib/python3.10/site-packages/flask/app.py\", line 882, in full_dispatch_request\n",
      "    rv = self.handle_user_exception(e)\n",
      "  File \"/Users/divyalekhas/miniconda3/envs/logview_env/lib/python3.10/site-packages/flask/app.py\", line 880, in full_dispatch_request\n",
      "    rv = self.dispatch_request()\n",
      "  File \"/Users/divyalekhas/miniconda3/envs/logview_env/lib/python3.10/site-packages/flask/app.py\", line 865, in dispatch_request\n",
      "    return self.ensure_sync(self.view_functions[rule.endpoint])(**view_args)  # type: ignore[no-any-return]\n",
      "  File \"/Users/divyalekhas/miniconda3/envs/logview_env/lib/python3.10/site-packages/dash/dash.py\", line 1368, in dispatch\n",
      "    raise KeyError(msg) from missing_callback_function\n",
      "KeyError: \"Callback function not found for output 'datatable-interactivity.style_data_conditional', perhaps you forgot to prepend the '@'?\"\n",
      "[2024-07-19 21:36:17,506] ERROR in app: Exception on /_dash-update-component [POST]\n",
      "Traceback (most recent call last):\n",
      "  File \"/Users/divyalekhas/miniconda3/envs/logview_env/lib/python3.10/site-packages/dash/dash.py\", line 1303, in dispatch\n",
      "    cb = self.callback_map[output]\n",
      "KeyError: 'stored-selected-columns.data'\n",
      "\n",
      "The above exception was the direct cause of the following exception:\n",
      "\n",
      "Traceback (most recent call last):\n",
      "  File \"/Users/divyalekhas/miniconda3/envs/logview_env/lib/python3.10/site-packages/flask/app.py\", line 1473, in wsgi_app\n",
      "    response = self.full_dispatch_request()\n",
      "  File \"/Users/divyalekhas/miniconda3/envs/logview_env/lib/python3.10/site-packages/flask/app.py\", line 882, in full_dispatch_request\n",
      "    rv = self.handle_user_exception(e)\n",
      "  File \"/Users/divyalekhas/miniconda3/envs/logview_env/lib/python3.10/site-packages/flask/app.py\", line 880, in full_dispatch_request\n",
      "    rv = self.dispatch_request()\n",
      "  File \"/Users/divyalekhas/miniconda3/envs/logview_env/lib/python3.10/site-packages/flask/app.py\", line 865, in dispatch_request\n",
      "    return self.ensure_sync(self.view_functions[rule.endpoint])(**view_args)  # type: ignore[no-any-return]\n",
      "  File \"/Users/divyalekhas/miniconda3/envs/logview_env/lib/python3.10/site-packages/dash/dash.py\", line 1368, in dispatch\n",
      "    raise KeyError(msg) from missing_callback_function\n",
      "KeyError: \"Callback function not found for output 'stored-selected-columns.data', perhaps you forgot to prepend the '@'?\"\n",
      "[2024-07-19 21:36:17,539] ERROR in app: Exception on /_dash-update-component [POST]\n",
      "Traceback (most recent call last):\n",
      "  File \"/Users/divyalekhas/miniconda3/envs/logview_env/lib/python3.10/site-packages/dash/dash.py\", line 1303, in dispatch\n",
      "    cb = self.callback_map[output]\n",
      "KeyError: 'datatable-interactivity.style_data_conditional'\n",
      "\n",
      "The above exception was the direct cause of the following exception:\n",
      "\n",
      "Traceback (most recent call last):\n",
      "  File \"/Users/divyalekhas/miniconda3/envs/logview_env/lib/python3.10/site-packages/flask/app.py\", line 1473, in wsgi_app\n",
      "    response = self.full_dispatch_request()\n",
      "  File \"/Users/divyalekhas/miniconda3/envs/logview_env/lib/python3.10/site-packages/flask/app.py\", line 882, in full_dispatch_request\n",
      "    rv = self.handle_user_exception(e)\n",
      "  File \"/Users/divyalekhas/miniconda3/envs/logview_env/lib/python3.10/site-packages/flask/app.py\", line 880, in full_dispatch_request\n",
      "    rv = self.dispatch_request()\n",
      "  File \"/Users/divyalekhas/miniconda3/envs/logview_env/lib/python3.10/site-packages/flask/app.py\", line 865, in dispatch_request\n",
      "    return self.ensure_sync(self.view_functions[rule.endpoint])(**view_args)  # type: ignore[no-any-return]\n",
      "  File \"/Users/divyalekhas/miniconda3/envs/logview_env/lib/python3.10/site-packages/dash/dash.py\", line 1368, in dispatch\n",
      "    raise KeyError(msg) from missing_callback_function\n",
      "KeyError: \"Callback function not found for output 'datatable-interactivity.style_data_conditional', perhaps you forgot to prepend the '@'?\"\n",
      "[2024-07-19 21:36:19,165] ERROR in app: Exception on /_dash-update-component [POST]\n",
      "Traceback (most recent call last):\n",
      "  File \"/Users/divyalekhas/miniconda3/envs/logview_env/lib/python3.10/site-packages/dash/dash.py\", line 1303, in dispatch\n",
      "    cb = self.callback_map[output]\n",
      "KeyError: 'update-status.children'\n",
      "\n",
      "The above exception was the direct cause of the following exception:\n",
      "\n",
      "Traceback (most recent call last):\n",
      "  File \"/Users/divyalekhas/miniconda3/envs/logview_env/lib/python3.10/site-packages/flask/app.py\", line 1473, in wsgi_app\n",
      "    response = self.full_dispatch_request()\n",
      "  File \"/Users/divyalekhas/miniconda3/envs/logview_env/lib/python3.10/site-packages/flask/app.py\", line 882, in full_dispatch_request\n",
      "    rv = self.handle_user_exception(e)\n",
      "  File \"/Users/divyalekhas/miniconda3/envs/logview_env/lib/python3.10/site-packages/flask/app.py\", line 880, in full_dispatch_request\n",
      "    rv = self.dispatch_request()\n",
      "  File \"/Users/divyalekhas/miniconda3/envs/logview_env/lib/python3.10/site-packages/flask/app.py\", line 865, in dispatch_request\n",
      "    return self.ensure_sync(self.view_functions[rule.endpoint])(**view_args)  # type: ignore[no-any-return]\n",
      "  File \"/Users/divyalekhas/miniconda3/envs/logview_env/lib/python3.10/site-packages/dash/dash.py\", line 1368, in dispatch\n",
      "    raise KeyError(msg) from missing_callback_function\n",
      "KeyError: \"Callback function not found for output 'update-status.children', perhaps you forgot to prepend the '@'?\"\n",
      "[2024-07-19 21:36:20,164] ERROR in app: Exception on /_dash-update-component [POST]\n",
      "Traceback (most recent call last):\n",
      "  File \"/Users/divyalekhas/miniconda3/envs/logview_env/lib/python3.10/site-packages/dash/dash.py\", line 1303, in dispatch\n",
      "    cb = self.callback_map[output]\n",
      "KeyError: 'update-status.children'\n",
      "\n",
      "The above exception was the direct cause of the following exception:\n",
      "\n",
      "Traceback (most recent call last):\n",
      "  File \"/Users/divyalekhas/miniconda3/envs/logview_env/lib/python3.10/site-packages/flask/app.py\", line 1473, in wsgi_app\n",
      "    response = self.full_dispatch_request()\n",
      "  File \"/Users/divyalekhas/miniconda3/envs/logview_env/lib/python3.10/site-packages/flask/app.py\", line 882, in full_dispatch_request\n",
      "    rv = self.handle_user_exception(e)\n",
      "  File \"/Users/divyalekhas/miniconda3/envs/logview_env/lib/python3.10/site-packages/flask/app.py\", line 880, in full_dispatch_request\n",
      "    rv = self.dispatch_request()\n",
      "  File \"/Users/divyalekhas/miniconda3/envs/logview_env/lib/python3.10/site-packages/flask/app.py\", line 865, in dispatch_request\n",
      "    return self.ensure_sync(self.view_functions[rule.endpoint])(**view_args)  # type: ignore[no-any-return]\n",
      "  File \"/Users/divyalekhas/miniconda3/envs/logview_env/lib/python3.10/site-packages/dash/dash.py\", line 1368, in dispatch\n",
      "    raise KeyError(msg) from missing_callback_function\n",
      "KeyError: \"Callback function not found for output 'update-status.children', perhaps you forgot to prepend the '@'?\"\n"
     ]
    }
   ],
   "source": [
    "app = vel_instance.displayPredicates()\n",
    "\n",
    "app.run_server(mode='inline', port=constants.NAMESUIPORT)\n",
    "#currently working for EqToConstant"
   ]
  },
  {
   "cell_type": "code",
   "execution_count": 7,
   "metadata": {},
   "outputs": [
    {
     "name": "stdout",
     "output_type": "stream",
     "text": [
      "['EqToConstant', 'NotEqToConstant', 'Query', 'Union', 'GreaterEqualToConstant', 'LessEqualToConstant', 'GreaterThanConstant', 'LessThanConstant', 'StartWith', 'EndWith', 'DurationWithin', 'SumAggregate', 'CountAggregate', 'MaxAggregate', 'MinAggregate']\n"
     ]
    },
    {
     "data": {
      "text/html": [
       "\n",
       "        <iframe\n",
       "            width=\"100%\"\n",
       "            height=\"650\"\n",
       "            src=\"http://127.0.0.1:8050/\"\n",
       "            frameborder=\"0\"\n",
       "            allowfullscreen\n",
       "            \n",
       "        ></iframe>\n",
       "        "
      ],
      "text/plain": [
       "<IPython.lib.display.IFrame at 0x3573b7010>"
      ]
     },
     "metadata": {},
     "output_type": "display_data"
    }
   ],
   "source": [
    "# app = vel_instance.getInputPredicate()\n",
    "\n",
    "# app.run_server(mode='inline', port=constants.NAMESUIPORT)"
   ]
  },
  {
   "cell_type": "code",
   "execution_count": null,
   "metadata": {},
   "outputs": [],
   "source": []
  }
 ],
 "metadata": {
  "kernelspec": {
   "display_name": "logview_env",
   "language": "python",
   "name": "python3"
  },
  "language_info": {
   "codemirror_mode": {
    "name": "ipython",
    "version": 3
   },
   "file_extension": ".py",
   "mimetype": "text/x-python",
   "name": "python",
   "nbconvert_exporter": "python",
   "pygments_lexer": "ipython3",
   "version": "3.10.14"
  }
 },
 "nbformat": 4,
 "nbformat_minor": 2
}
